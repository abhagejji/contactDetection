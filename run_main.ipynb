{
 "cells": [
  {
   "cell_type": "code",
   "execution_count": null,
   "metadata": {},
   "outputs": [],
   "source": [
    "from config import MyTansforms,MyDataset\n",
    "from data_loader import MyDataLoading_color,MyDataLoading_four_channel\n",
    "import pytorch_lightning as pl\n",
    "import pandas as pd\n",
    "from myModelsAll import MyEfficientNet_3channel\n",
    "from pytorch_lightning.loggers import TensorBoardLogger\n",
    "from pytorch_lightning.callbacks import ModelCheckpoint, EarlyStopping"
   ]
  },
  {
   "cell_type": "code",
   "execution_count": null,
   "metadata": {},
   "outputs": [],
   "source": [
    "logger_dir = \"/panfs/jay/groups/27/kersten/gejji003/Shadows/trained_models/round1/logger/\"\n",
    "checkpt_dirpath = \"/panfs/jay/groups/27/kersten/gejji003/Shadows/trained_models/round1/checkpoint/\"\n",
    "base_path = \"/panfs/jay/groups/27/kersten/gejji003/Shadows/data/images_rendered_try2/\" # loaction of train test\n",
    "\n",
    "checkpt_dirpath = \"/home/atharva/Downloads/code/experiment_logs/checkpoint\"\n",
    "logger_dir = \"/home/atharva/Downloads/code/experiment_logs/logger/\"\n",
    "base_path = \"/home/atharva/Downloads/code/\"\n",
    "\n",
    "file_path_train = base_path +\"trainData.csv\"\n",
    "file_path_val = base_path +\"valData.csv\"\n",
    "file_path_test = base_path +\"testData.csv\"\n"
   ]
  },
  {
   "cell_type": "code",
   "execution_count": null,
   "metadata": {},
   "outputs": [],
   "source": [
    "train_df = pd.read_csv(file_path_train)\n",
    "val_df = pd.read_csv(file_path_val)\n",
    "test_df = pd.read_csv(file_path_test)"
   ]
  },
  {
   "cell_type": "code",
   "execution_count": null,
   "metadata": {},
   "outputs": [],
   "source": [
    "theDataLoader = \"three_channel\" # \"four_channel\"\n",
    "color_channel = \"colors\"\n",
    "shadow_channel = \"cast_shadow\"\n",
    "mount_point = \"/home/atharva/Abha/Shadows/images_rendered_try2/\""
   ]
  },
  {
   "cell_type": "code",
   "execution_count": null,
   "metadata": {},
   "outputs": [],
   "source": []
  },
  {
   "cell_type": "code",
   "execution_count": null,
   "metadata": {},
   "outputs": [],
   "source": [
    "dataset = MyDataset(train_df, val_df, test_df, color_channel, shadow_channel, theDataLoader, mount_point, batch_size=1, num_workers=4)"
   ]
  },
  {
   "cell_type": "code",
   "execution_count": null,
   "metadata": {},
   "outputs": [],
   "source": [
    "model = MyEfficientNet_3channel(num_classes = 2, input_channels=3) # MyEfficientNet_4channel(num_classes = 2)"
   ]
  },
  {
   "cell_type": "code",
   "execution_count": null,
   "metadata": {},
   "outputs": [],
   "source": [
    "logger = TensorBoardLogger(save_dir=logger_dir, name=\"my_experiment\")\n",
    "early_stopping_callback = EarlyStopping(\n",
    "    monitor='val_loss',  # The metric to monitor for early stopping (e.g., validation loss)\n",
    "    patience=20,           # Number of epochs with no improvement after which training will be stopped\n",
    "    mode='min',            # 'min' means we want to minimize the monitored metric, 'max' means maximize\n",
    ")\n",
    "model_checkpoint_callback = ModelCheckpoint(\n",
    "                                    dirpath=checkpt_dirpath,  # Directory to save checkpoints\n",
    "                                    filename='model-{epoch:02d}-{val_loss:.2f}',  # File name format\n",
    "                                    save_top_k=3,  # Save the top 3 best models\n",
    "                                    monitor='val_loss',  # Monitor validation loss\n",
    "                                    mode='min',  # Choose 'min' or 'max' depending on the monitored metric\n",
    "                                    )\n",
    "# Create a Lightning Trainer\n",
    "trainer = pl.Trainer(max_epochs=100, accelerator = \"gpu\",logger=logger, log_every_n_steps=1,\n",
    "                     callbacks=[model_checkpoint_callback, early_stopping_callback]\n",
    "        )\n",
    "\n"
   ]
  },
  {
   "cell_type": "code",
   "execution_count": null,
   "metadata": {},
   "outputs": [],
   "source": [
    "trainer.fit(model, datamodule = dataset)"
   ]
  },
  {
   "cell_type": "code",
   "execution_count": null,
   "metadata": {},
   "outputs": [],
   "source": []
  }
 ],
 "metadata": {
  "kernelspec": {
   "display_name": "pytorchLightning",
   "language": "python",
   "name": "python3"
  },
  "language_info": {
   "codemirror_mode": {
    "name": "ipython",
    "version": 3
   },
   "file_extension": ".py",
   "mimetype": "text/x-python",
   "name": "python",
   "nbconvert_exporter": "python",
   "pygments_lexer": "ipython3",
   "version": "3.11.5"
  }
 },
 "nbformat": 4,
 "nbformat_minor": 2
}
